{
 "cells": [
  {
   "cell_type": "code",
   "execution_count": 1,
   "metadata": {},
   "outputs": [],
   "source": [
    "import numpy as np\n",
    "import matplotlib.pyplot as plt\n",
    "import pandas as pd\n",
    "import scipy.linalg \n",
    "\n",
    "import KF_Library as kf"
   ]
  },
  {
   "cell_type": "code",
   "execution_count": 2,
   "metadata": {},
   "outputs": [],
   "source": [
    "# Model parameters from \"Temporal parallelization of Bayesian smoothers\" paper.\n",
    "RunTime = 2000\n",
    "\n",
    "dt = 0.1\n",
    "sigma = 0.5\n",
    "q = 1\n",
    "F = np.array ([[1, 0, dt, 0 ],\n",
    "               [0, 1, 0,  dt],\n",
    "               [0, 0, 1,  0 ],\n",
    "               [0, 0, 0,  1 ]])\n",
    "Q = q * np.array ([[dt**3/3,    0,         dt**2/2,   0      ],\n",
    "                   [0,          dt**3/3,   0,         dt**2/2],\n",
    "                   [dt**2/2,    0,         dt,        0      ],\n",
    "                   [0,          dt**2/2,   0,         dt     ]])\n",
    "H = np.array([[1, 0, 0, 0], [0, 1, 0, 0]])\n",
    "R = np.array([[sigma**2, 0],[0, sigma**2]])\n",
    "\n",
    "m0 = np.array([[0 , 0, 1, -1]]).T\n",
    "P0 = np.eye(4)"
   ]
  },
  {
   "cell_type": "code",
   "execution_count": 3,
   "metadata": {},
   "outputs": [],
   "source": [
    "x = pd.read_excel('x.xlsx').values\n",
    "y = pd.read_excel('y.xlsx').values"
   ]
  },
  {
   "cell_type": "markdown",
   "metadata": {},
   "source": [
    "# Parallel kalman filter and RTS smoother\n"
   ]
  },
  {
   "cell_type": "code",
   "execution_count": 4,
   "metadata": {},
   "outputs": [],
   "source": [
    "#filtering\n",
    "a = kf.filteringInitializer(F, Q, H, R, y, m0, P0, RunTime)\n",
    "kf_res = kf.parallelScanAlgorithm(a, RunTime, kf.filtering)\n",
    "\n",
    "KF_m = []\n",
    "KF_P = []\n",
    "for k in range(len(kf_res)): \n",
    "    KF_m.append(kf_res[k]['b'])\n",
    "    KF_P.append(kf_res[k]['C'])\n",
    "    \n",
    "#smoothing\n",
    "b = kf.smoothingInitializer(F, Q, KF_m, KF_P, RunTime)\n",
    "rts_res = kf.parallelScanAlgorithm(b, RunTime, kf.smoothing)\n",
    "\n",
    "rts_m = np.zeros((len(rts_res[k]['g']),len(rts_res)))\n",
    "rts_L = np.zeros((len(rts_res[k]['L']),len(rts_res[k]['L']),len(rts_res)))\n",
    "for k in range(len(rts_res)):\n",
    "    rts_m[:,RunTime-k-1,None] = rts_res[k]['g']\n",
    "    rts_L[:,:,RunTime-k-1] = rts_res[k]['L']\n",
    "\n",
    "    "
   ]
  },
  {
   "cell_type": "markdown",
   "metadata": {},
   "source": [
    "## Parallel square root kalman filter and RTS smoother"
   ]
  },
  {
   "cell_type": "code",
   "execution_count": 5,
   "metadata": {},
   "outputs": [],
   "source": [
    "W = scipy.linalg.cholesky(Q, lower=True)\n",
    "V = scipy.linalg.cholesky(R, lower=True)\n",
    "N_0 = scipy.linalg.cholesky(P0, lower=True)"
   ]
  },
  {
   "cell_type": "code",
   "execution_count": 6,
   "metadata": {
    "scrolled": false
   },
   "outputs": [],
   "source": [
    "# %time\n",
    "#filtering\n",
    "a_sqr = kf.SqrFilteringInitializer(F, W, H, V, y, m0, N_0, RunTime) \n",
    "sqr_kf_res = kf.parallelScanAlgorithm(a_sqr, RunTime, kf.SqrFiltering)\n",
    "\n",
    "sqr_kf_m = []\n",
    "sqr_kf_U = []\n",
    "sqr_kf_eta = []\n",
    "sqr_kf_Z = []\n",
    "sqr_kf_A = []\n",
    "for k in range(len(sqr_kf_res)): \n",
    "    sqr_kf_m.append(sqr_kf_res[k]['b'])\n",
    "    sqr_kf_U.append(sqr_kf_res[k]['U'])\n",
    "    sqr_kf_eta.append(sqr_kf_res[k]['eta'])\n",
    "    sqr_kf_Z.append(sqr_kf_res[k]['Z'])\n",
    "    sqr_kf_A.append(sqr_kf_res[k]['A'])\n",
    "\n",
    "# smoothing    \n",
    "b_sqr = kf.SqrSmoothingInitializer(F, W, sqr_kf_m, sqr_kf_U, RunTime)\n",
    "sqr_rts_res = kf.parallelScanAlgorithm(b_sqr, RunTime, kf.SqrSmoothing)\n",
    "\n",
    "sqr_rts_m = np.zeros((len(sqr_rts_res[k]['g']),len(sqr_rts_res)))\n",
    "sqr_rts_D = np.zeros((len(sqr_rts_res[k]['D']),len(sqr_rts_res[k]['D']),len(sqr_rts_res)))\n",
    "sqr_rts_E = np.zeros((len(sqr_rts_res[k]['E']),len(sqr_rts_res[k]['E']),len(sqr_rts_res)))\n",
    "b_sqr_E = np.zeros((len(b_sqr[k]['E']),len(b_sqr[k]['E']),len(b_sqr)))\n",
    "b_sqr_D = np.zeros((len(b_sqr[k]['D']),len(b_sqr[k]['D']),len(b_sqr)))\n",
    "b_sqr_g = np.zeros((len(b_sqr[k]['g']),len(b_sqr)))\n",
    "for k in range(len(sqr_rts_res)):\n",
    "    sqr_rts_m[:,RunTime-k-1,None] = sqr_rts_res[k]['g']\n",
    "    sqr_rts_D[:,:,RunTime-k-1] = sqr_rts_res[k]['D']\n",
    "    sqr_rts_E[:,:,RunTime-k-1] = sqr_rts_res[k]['E']\n",
    "    b_sqr_E[:,:,RunTime-k-1] = b_sqr[k]['E']\n",
    "    b_sqr_D[:,:,RunTime-k-1] = b_sqr[k]['D']\n",
    "    b_sqr_g[:,RunTime-k-1,None] = b_sqr[k]['g']"
   ]
  },
  {
   "cell_type": "code",
   "execution_count": null,
   "metadata": {},
   "outputs": [],
   "source": []
  },
  {
   "cell_type": "markdown",
   "metadata": {},
   "source": [
    "### Check the results"
   ]
  },
  {
   "cell_type": "code",
   "execution_count": 7,
   "metadata": {},
   "outputs": [
    {
     "data": {
      "text/plain": [
       "array([[ 0.18874787,  0.        ,  0.        ,  0.        ],\n",
       "       [ 0.        ,  0.18874787,  0.        ,  0.        ],\n",
       "       [-0.20357208,  0.        ,  0.46801601,  0.        ],\n",
       "       [ 0.        , -0.20357208,  0.        ,  0.46801601]])"
      ]
     },
     "execution_count": 7,
     "metadata": {},
     "output_type": "execute_result"
    }
   ],
   "source": [
    "# problem\n",
    "sqr_rts_D[:,:,2]"
   ]
  },
  {
   "cell_type": "code",
   "execution_count": 27,
   "metadata": {},
   "outputs": [
    {
     "data": {
      "text/plain": [
       "array([ 0.94928359, -0.28400547,  0.93136415, -1.45964972])"
      ]
     },
     "execution_count": 27,
     "metadata": {},
     "output_type": "execute_result"
    }
   ],
   "source": [
    "sqr_rts_m[:,2]"
   ]
  },
  {
   "cell_type": "code",
   "execution_count": null,
   "metadata": {},
   "outputs": [],
   "source": []
  },
  {
   "cell_type": "code",
   "execution_count": 43,
   "metadata": {},
   "outputs": [
    {
     "data": {
      "text/plain": [
       "{'E': array([[ 0.90085439,  0.        , -0.13720395,  0.        ],\n",
       "        [ 0.        ,  0.90085439,  0.        , -0.13720395],\n",
       "        [ 0.86779015,  0.        ,  0.41287022,  0.        ],\n",
       "        [ 0.        ,  0.86779015,  0.        ,  0.41287022]]),\n",
       " 'g': array([-14.09704075, -65.41295714,  82.52869239, 720.50727087]),\n",
       " 'D': array([[ 0.03927573,  0.        ,  0.        ,  0.        ],\n",
       "        [ 0.        ,  0.03927573,  0.        ,  0.        ],\n",
       "        [-0.2396642 ,  0.        , -0.20602607,  0.        ],\n",
       "        [ 0.        , -0.2396642 ,  0.        , -0.20602607]])}"
      ]
     },
     "execution_count": 43,
     "metadata": {},
     "output_type": "execute_result"
    }
   ],
   "source": [
    "a = {'E': b_sqr_E[:,:,1000], 'g': b_sqr_g[:,1000], 'D': b_sqr_D[:,:,1000]}\n",
    "b = {'E': b_sqr_E[:,:,1500], 'g': b_sqr_g[:,1500], 'D': b_sqr_D[:,:,1500]}\n",
    "kf.SqrSmoothing(a,b)"
   ]
  },
  {
   "cell_type": "code",
   "execution_count": 9,
   "metadata": {},
   "outputs": [
    {
     "ename": "NameError",
     "evalue": "name 'DeviceArray' is not defined",
     "output_type": "error",
     "traceback": [
      "\u001b[0;31m---------------------------------------------------------------------------\u001b[0m",
      "\u001b[0;31mNameError\u001b[0m                                 Traceback (most recent call last)",
      "\u001b[0;32m<ipython-input-9-a1f278128321>\u001b[0m in \u001b[0;36m<module>\u001b[0;34m\u001b[0m\n\u001b[0;32m----> 1\u001b[0;31m DeviceArray([[ 0.03927573,  0.        ,  0.        ,  0.        ],\n\u001b[0m\u001b[1;32m      2\u001b[0m               \u001b[0;34m[\u001b[0m \u001b[0;36m0.\u001b[0m        \u001b[0;34m,\u001b[0m  \u001b[0;36m0.03927574\u001b[0m\u001b[0;34m,\u001b[0m  \u001b[0;36m0.\u001b[0m        \u001b[0;34m,\u001b[0m  \u001b[0;36m0.\u001b[0m        \u001b[0;34m]\u001b[0m\u001b[0;34m,\u001b[0m\u001b[0;34m\u001b[0m\u001b[0;34m\u001b[0m\u001b[0m\n\u001b[1;32m      3\u001b[0m               \u001b[0;34m[\u001b[0m\u001b[0;34m-\u001b[0m\u001b[0;36m0.2396642\u001b[0m \u001b[0;34m,\u001b[0m  \u001b[0;36m0.\u001b[0m        \u001b[0;34m,\u001b[0m \u001b[0;34m-\u001b[0m\u001b[0;36m0.20602603\u001b[0m\u001b[0;34m,\u001b[0m  \u001b[0;36m0.\u001b[0m        \u001b[0;34m]\u001b[0m\u001b[0;34m,\u001b[0m\u001b[0;34m\u001b[0m\u001b[0;34m\u001b[0m\u001b[0m\n\u001b[1;32m      4\u001b[0m               [ 0.        , -0.23966423,  0.        , -0.20602609]],            dtype=float32),\n",
      "\u001b[0;31mNameError\u001b[0m: name 'DeviceArray' is not defined"
     ]
    }
   ],
   "source": [
    "DeviceArray([[ 0.03927573,  0.        ,  0.        ,  0.        ],\n",
    "              [ 0.        ,  0.03927574,  0.        ,  0.        ],\n",
    "              [-0.2396642 ,  0.        , -0.20602603,  0.        ],\n",
    "              [ 0.        , -0.23966423,  0.        , -0.20602609]],            dtype=float32),"
   ]
  },
  {
   "cell_type": "code",
   "execution_count": 32,
   "metadata": {},
   "outputs": [
    {
     "data": {
      "text/plain": [
       "array([[0., 0., 0., 0.],\n",
       "       [0., 0., 0., 0.],\n",
       "       [0., 0., 0., 0.],\n",
       "       [0., 0., 0., 0.]])"
      ]
     },
     "execution_count": 32,
     "metadata": {},
     "output_type": "execute_result"
    }
   ],
   "source": [
    "b_sqr_E[:,:,1999]"
   ]
  },
  {
   "cell_type": "code",
   "execution_count": 33,
   "metadata": {},
   "outputs": [
    {
     "ename": "NameError",
     "evalue": "name 'DeviceArray' is not defined",
     "output_type": "error",
     "traceback": [
      "\u001b[0;31m---------------------------------------------------------------------------\u001b[0m",
      "\u001b[0;31mNameError\u001b[0m                                 Traceback (most recent call last)",
      "\u001b[0;32m<ipython-input-33-6897eed3c312>\u001b[0m in \u001b[0;36m<module>\u001b[0;34m\u001b[0m\n\u001b[0;32m----> 1\u001b[0;31m DeviceArray([[ 0.97196007,  0.        , -0.08326636,  0.        ],\n\u001b[0m\u001b[1;32m      2\u001b[0m              \u001b[0;34m[\u001b[0m \u001b[0;36m0.\u001b[0m        \u001b[0;34m,\u001b[0m  \u001b[0;36m0.97196007\u001b[0m\u001b[0;34m,\u001b[0m  \u001b[0;36m0.\u001b[0m        \u001b[0;34m,\u001b[0m \u001b[0;34m-\u001b[0m\u001b[0;36m0.08326636\u001b[0m\u001b[0;34m]\u001b[0m\u001b[0;34m,\u001b[0m\u001b[0;34m\u001b[0m\u001b[0;34m\u001b[0m\u001b[0m\n\u001b[1;32m      3\u001b[0m              \u001b[0;34m[\u001b[0m \u001b[0;36m0.52664393\u001b[0m\u001b[0;34m,\u001b[0m  \u001b[0;36m0.\u001b[0m        \u001b[0;34m,\u001b[0m  \u001b[0;36m0.67581224\u001b[0m\u001b[0;34m,\u001b[0m  \u001b[0;36m0.\u001b[0m        \u001b[0;34m]\u001b[0m\u001b[0;34m,\u001b[0m\u001b[0;34m\u001b[0m\u001b[0;34m\u001b[0m\u001b[0m\n\u001b[1;32m      4\u001b[0m              [ 0.        ,  0.52664393,  0.        ,  0.67581224]],            dtype=float32)\n",
      "\u001b[0;31mNameError\u001b[0m: name 'DeviceArray' is not defined"
     ]
    }
   ],
   "source": [
    "DeviceArray([[ 0.97196007,  0.        , -0.08326636,  0.        ],\n",
    "             [ 0.        ,  0.97196007,  0.        , -0.08326636],\n",
    "             [ 0.52664393,  0.        ,  0.67581224,  0.        ],\n",
    "             [ 0.        ,  0.52664393,  0.        ,  0.67581224]],            dtype=float32)"
   ]
  },
  {
   "cell_type": "code",
   "execution_count": 41,
   "metadata": {},
   "outputs": [
    {
     "data": {
      "text/plain": [
       "array([[ 0.99800648,  0.        , -0.0955769 ,  0.        ],\n",
       "       [ 0.        ,  0.99800648,  0.        , -0.0955769 ],\n",
       "       [ 0.03155925,  0.        ,  0.91247948,  0.        ],\n",
       "       [ 0.        ,  0.03155925,  0.        ,  0.91247948]])"
      ]
     },
     "execution_count": 41,
     "metadata": {},
     "output_type": "execute_result"
    }
   ],
   "source": [
    "b_sqr_E[:,:,0]"
   ]
  },
  {
   "cell_type": "code",
   "execution_count": null,
   "metadata": {},
   "outputs": [],
   "source": [
    "DeviceArray([[ 0.9980068 ,  0.        , -0.09557691,  0.        ],\n",
    "             [ 0.        ,  0.9980068 ,  0.        , -0.09557691],\n",
    "             [ 0.03155941,  0.        ,  0.9124794 ,  0.        ],\n",
    "             [ 0.        ,  0.03155941,  0.        ,  0.9124794 ]],            dtype=float32)"
   ]
  },
  {
   "cell_type": "code",
   "execution_count": 40,
   "metadata": {},
   "outputs": [
    {
     "data": {
      "text/plain": [
       "array([[-0.01765078,  0.        ,  0.        ,  0.        ],\n",
       "       [ 0.        , -0.01765078,  0.        ,  0.        ],\n",
       "       [ 0.25877933,  0.        ,  0.15632979,  0.        ],\n",
       "       [ 0.        ,  0.25877933,  0.        ,  0.15632979]])"
      ]
     },
     "execution_count": 40,
     "metadata": {},
     "output_type": "execute_result"
    }
   ],
   "source": [
    "b_sqr_D[:,:,0]"
   ]
  },
  {
   "cell_type": "code",
   "execution_count": null,
   "metadata": {},
   "outputs": [],
   "source": [
    "DeviceArray([[-0.01765079,  0.        ,  0.        ,  0.        ],\n",
    "             [ 0.        , -0.01765079,  0.        ,  0.        ],\n",
    "             [ 0.25877932,  0.        ,  0.15632975,  0.        ],\n",
    "             [ 0.        ,  0.25877932,  0.        ,  0.15632975]],            dtype=float32)"
   ]
  },
  {
   "cell_type": "code",
   "execution_count": 42,
   "metadata": {},
   "outputs": [
    {
     "data": {
      "text/plain": [
       "array([-0.00483024,  0.0035621 ,  0.09302319, -0.07443089])"
      ]
     },
     "execution_count": 42,
     "metadata": {},
     "output_type": "execute_result"
    }
   ],
   "source": [
    "b_sqr_g[:,0]"
   ]
  },
  {
   "cell_type": "code",
   "execution_count": null,
   "metadata": {},
   "outputs": [],
   "source": [
    "DeviceArray([[-0.00483012],\n",
    "             [ 0.00356224],\n",
    "             [ 0.0930233 ],\n",
    "             [-0.07443088]], dtype=float32)"
   ]
  },
  {
   "cell_type": "code",
   "execution_count": 26,
   "metadata": {},
   "outputs": [
    {
     "data": {
      "text/plain": [
       "array([[-0.27353516,  0.        ,  0.        ,  0.        ],\n",
       "       [ 0.        , -0.27353516,  0.        ,  0.        ],\n",
       "       [-0.4838684 ,  0.        , -0.53026445,  0.        ],\n",
       "       [ 0.        , -0.4838684 ,  0.        , -0.53026445]])"
      ]
     },
     "execution_count": 26,
     "metadata": {},
     "output_type": "execute_result"
    }
   ],
   "source": [
    "sqr_rts_res[0]['D']"
   ]
  },
  {
   "cell_type": "code",
   "execution_count": 30,
   "metadata": {},
   "outputs": [
    {
     "data": {
      "text/plain": [
       "array([[ 0.18874787,  0.        ,  0.        ,  0.        ],\n",
       "       [ 0.        ,  0.18874787,  0.        ,  0.        ],\n",
       "       [-0.20357208,  0.        ,  0.46801601,  0.        ],\n",
       "       [ 0.        , -0.20357208,  0.        ,  0.46801601]])"
      ]
     },
     "execution_count": 30,
     "metadata": {},
     "output_type": "execute_result"
    }
   ],
   "source": [
    "sqr_rts_D[:,:,2]"
   ]
  },
  {
   "cell_type": "code",
   "execution_count": 29,
   "metadata": {},
   "outputs": [
    {
     "data": {
      "text/plain": [
       "array([[0., 0., 0., 0.],\n",
       "       [0., 0., 0., 0.],\n",
       "       [0., 0., 0., 0.],\n",
       "       [0., 0., 0., 0.]])"
      ]
     },
     "execution_count": 29,
     "metadata": {},
     "output_type": "execute_result"
    }
   ],
   "source": [
    "sqr_rts_E[:,:,2]"
   ]
  },
  {
   "cell_type": "code",
   "execution_count": 28,
   "metadata": {},
   "outputs": [
    {
     "data": {
      "text/plain": [
       "array([-182.31927114, -514.59336529,    1.79084898,   -7.42892201])"
      ]
     },
     "execution_count": 28,
     "metadata": {},
     "output_type": "execute_result"
    }
   ],
   "source": [
    "sqr_rts_m[:,1000]"
   ]
  },
  {
   "cell_type": "raw",
   "metadata": {},
   "source": [
    "# new code_jax, previous code_jax, nonsqr code_python\n",
    "DeviceArray([[  609.78015 ],\n",
    "             [-1695.8258  ],\n",
    "             [   17.929626],\n",
    "             [  -11.726074]], dtype=float32)\n",
    "DeviceArray([[-182.31921  ],\n",
    "             [-514.5932   ],\n",
    "             [   1.7908936],\n",
    "             [  -7.4289856]], dtype=float32)\n",
    "array([[  443.5291724 ],\n",
    "       [-1572.24963016],\n",
    "       [   15.49775521],\n",
    "       [  -13.46764059]])"
   ]
  },
  {
   "cell_type": "code",
   "execution_count": 69,
   "metadata": {},
   "outputs": [
    {
     "data": {
      "text/plain": [
       "array([[ 0.98616298,  0.        ,  0.19756197,  0.        ],\n",
       "       [ 0.        ,  0.98616298,  0.        ,  0.19756197],\n",
       "       [-0.09880075,  0.        ,  0.98221086,  0.        ],\n",
       "       [ 0.        , -0.09880075,  0.        ,  0.98221086]])"
      ]
     },
     "execution_count": 69,
     "metadata": {},
     "output_type": "execute_result"
    }
   ],
   "source": [
    "(kf.SqrFiltering(a_sqr[5], a_sqr[7]))['A']"
   ]
  },
  {
   "cell_type": "markdown",
   "metadata": {},
   "source": [
    "## Plot"
   ]
  },
  {
   "cell_type": "code",
   "execution_count": 7,
   "metadata": {},
   "outputs": [],
   "source": [
    "kf_m = np.array(KF_m).reshape(-1,4).T\n",
    "Sqr_kf_m = np.array(sqr_kf_m).reshape(-1,4).T"
   ]
  },
  {
   "cell_type": "code",
   "execution_count": 8,
   "metadata": {},
   "outputs": [
    {
     "data": {
      "image/png": "[encoded data removed]",
      "text/plain": [
       "<Figure size 720x360 with 1 Axes>"
      ]
     },
     "metadata": {
      "needs_background": "light"
     },
     "output_type": "display_data"
    }
   ],
   "source": [
    "plt.figure(figsize=(10,5))\n",
    "plt.plot(x[0,:140],x[1,:140],'-',\n",
    "         y[0,:140],y[1,:140],'o',\n",
    "         rts_m[0,:140],rts_m[1,:140],'--',\n",
    "         sqr_rts_m[0,:140],sqr_rts_m[1,:140],\n",
    "         kf_m[0,:140], kf_m[1,:140],'-.',\n",
    "         Sqr_kf_m[0,:140], Sqr_kf_m[1,:140])\n",
    "c=plt.legend(['True Trajectory','Measurements','Smoother Estimate', 'Square Smoother Estimate', 'Filter Estimate',  'Square Filter Estimate'])\n",
    "a=plt.xlabel('x_1')\n",
    "b=plt.ylabel('x_2')"
   ]
  },
  {
   "cell_type": "code",
   "execution_count": null,
   "metadata": {},
   "outputs": [],
   "source": []
  }
 ],
 "metadata": {
  "kernelspec": {
   "display_name": "Python 3",
   "language": "python",
   "name": "python3"
  },
  "language_info": {
   "codemirror_mode": {
    "name": "ipython",
    "version": 3
   },
   "file_extension": ".py",
   "mimetype": "text/x-python",
   "name": "python",
   "nbconvert_exporter": "python",
   "pygments_lexer": "ipython3",
   "version": "3.8.3"
  }
 },
 "nbformat": 4,
 "nbformat_minor": 4
}
