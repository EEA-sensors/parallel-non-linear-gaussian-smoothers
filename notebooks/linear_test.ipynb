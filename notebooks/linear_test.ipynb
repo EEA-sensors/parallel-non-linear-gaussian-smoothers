{
 "cells": [
  {
   "cell_type": "markdown",
   "metadata": {},
   "source": [
    "### Imports"
   ]
  },
  {
   "cell_type": "code",
   "metadata": {
    "ExecuteTime": {
     "end_time": "2024-08-09T19:57:28.160509Z",
     "start_time": "2024-08-09T19:57:27.779511Z"
    }
   },
   "source": [
    "import jax.numpy as jnp\n",
    "from parsmooth.parallel import ekf, eks\n",
    "from parsmooth.sequential import ekf as seq_ekf, eks as seq_eks, ckf as seq_ckf, cks as seq_cks\n",
    "from parsmooth.models.linear import get_data, make_parameters\n",
    "from parsmooth.utils import MVNormalParameters"
   ],
   "outputs": [],
   "execution_count": 1
  },
  {
   "cell_type": "markdown",
   "metadata": {},
   "source": [
    "### Input parameters"
   ]
  },
  {
   "cell_type": "code",
   "metadata": {
    "ExecuteTime": {
     "end_time": "2024-08-09T19:57:28.478071Z",
     "start_time": "2024-08-09T19:57:28.162240Z"
    }
   },
   "source": [
    "r = 0.5\n",
    "q = 0.1\n",
    "x0 = jnp.array([0., 0.])  # initial true location\n",
    "\n",
    "T = 1000  # number of observations"
   ],
   "outputs": [
    {
     "name": "stderr",
     "output_type": "stream",
     "text": [
      "2024-08-09 20:57:28.400845: W external/xla/xla/service/gpu/nvptx_compiler.cc:836] The NVIDIA driver's CUDA version is 12.5 which is older than the PTX compiler version (12.6.20). Because the driver is older than the PTX compiler version, XLA is disabling parallel compilation, which may slow down compilation. You should update your NVIDIA driver or use the NVIDIA-provided CUDA forward compatibility packages.\n"
     ]
    }
   ],
   "execution_count": 2
  },
  {
   "cell_type": "markdown",
   "metadata": {},
   "source": [
    "### Get parameters"
   ]
  },
  {
   "cell_type": "code",
   "metadata": {
    "ExecuteTime": {
     "end_time": "2024-08-09T19:57:28.871458Z",
     "start_time": "2024-08-09T19:57:28.479254Z"
    }
   },
   "source": [
    "A, H, Q, R, observation_function, transition_function = make_parameters(r, q)"
   ],
   "outputs": [],
   "execution_count": 3
  },
  {
   "cell_type": "code",
   "metadata": {
    "ExecuteTime": {
     "end_time": "2024-08-09T19:57:28.875619Z",
     "start_time": "2024-08-09T19:57:28.872932Z"
    }
   },
   "source": [
    "observation_function = jnp.vectorize(observation_function, signature=\"(m)->(d)\")\n",
    "transition_function = jnp.vectorize(transition_function, signature=\"(m)->(m)\")"
   ],
   "outputs": [],
   "execution_count": 4
  },
  {
   "cell_type": "markdown",
   "metadata": {},
   "source": [
    "### Get data"
   ]
  },
  {
   "cell_type": "code",
   "metadata": {
    "ExecuteTime": {
     "end_time": "2024-08-09T19:57:29.444821Z",
     "start_time": "2024-08-09T19:57:28.876503Z"
    }
   },
   "source": [
    "ts, true_states, observations = get_data(x0, A, H, R, Q, T, 42)"
   ],
   "outputs": [],
   "execution_count": 5
  },
  {
   "cell_type": "markdown",
   "metadata": {},
   "source": [
    "### We can now run the filter"
   ]
  },
  {
   "cell_type": "markdown",
   "metadata": {},
   "source": [
    "Initial state guess"
   ]
  },
  {
   "cell_type": "code",
   "metadata": {
    "ExecuteTime": {
     "end_time": "2024-08-09T19:57:29.449773Z",
     "start_time": "2024-08-09T19:57:29.445689Z"
    }
   },
   "source": [
    "m = jnp.array([0., 0.])\n",
    "P = jnp.eye(2)\n",
    "\n",
    "initial_guess = MVNormalParameters(m, P)"
   ],
   "outputs": [],
   "execution_count": 6
  },
  {
   "cell_type": "markdown",
   "metadata": {},
   "source": [
    "### We can now run the smoother"
   ]
  },
  {
   "cell_type": "markdown",
   "metadata": {},
   "source": [
    "Run the filters"
   ]
  },
  {
   "cell_type": "code",
   "metadata": {
    "ExecuteTime": {
     "end_time": "2024-08-09T19:57:42.814995Z",
     "start_time": "2024-08-09T19:57:29.451638Z"
    }
   },
   "source": [
    "par_ekf_filtered = ekf(initial_guess, observations, transition_function, Q, observation_function, R)\n",
    "seq_ekf_ll, seq_ekf_filtered = seq_ekf(initial_guess, observations, transition_function, Q, observation_function, R)\n",
    "par_ckf_ll, seq_ckf_filtered = seq_ckf(initial_guess, observations, transition_function, Q, observation_function, R)"
   ],
   "outputs": [],
   "execution_count": 7
  },
  {
   "cell_type": "markdown",
   "metadata": {},
   "source": [
    "Compare:"
   ]
  },
  {
   "cell_type": "code",
   "metadata": {
    "ExecuteTime": {
     "end_time": "2024-08-09T19:57:43.061201Z",
     "start_time": "2024-08-09T19:57:42.816350Z"
    }
   },
   "source": [
    "print(seq_ekf_ll, par_ckf_ll)\n",
    "\n",
    "print(jnp.max(jnp.abs(par_ekf_filtered.mean - seq_ekf_filtered.mean)))\n",
    "print(jnp.max(jnp.abs(par_ekf_filtered.mean - seq_ckf_filtered.mean)))\n",
    "\n",
    "print(jnp.max(jnp.abs(par_ekf_filtered.cov - seq_ekf_filtered.cov)))\n",
    "print(jnp.max(jnp.abs(par_ekf_filtered.cov - seq_ckf_filtered.cov)))"
   ],
   "outputs": [
    {
     "name": "stdout",
     "output_type": "stream",
     "text": [
      "-1178.5336 -1178.5336\n",
      "1.7851591e-05\n",
      "1.7851591e-05\n",
      "2.346933e-06\n",
      "2.346933e-06\n"
     ]
    }
   ],
   "execution_count": 8
  },
  {
   "cell_type": "markdown",
   "metadata": {},
   "source": [
    "Run the smoothers"
   ]
  },
  {
   "cell_type": "code",
   "metadata": {
    "ExecuteTime": {
     "end_time": "2024-08-09T19:57:46.092218Z",
     "start_time": "2024-08-09T19:57:43.063031Z"
    }
   },
   "source": [
    "par_eks_smoothed = eks(transition_function, Q, par_ekf_filtered, par_ekf_filtered.mean)\n",
    "seq_eks_smoothed = seq_eks(transition_function, Q, par_ekf_filtered)\n",
    "seq_cks_smoothed = seq_cks(transition_function, Q, par_ekf_filtered)"
   ],
   "outputs": [],
   "execution_count": 9
  },
  {
   "cell_type": "code",
   "metadata": {
    "ExecuteTime": {
     "end_time": "2024-08-09T19:57:46.100782Z",
     "start_time": "2024-08-09T19:57:46.093902Z"
    }
   },
   "source": [
    "print(jnp.max(jnp.abs(par_eks_smoothed.mean - seq_eks_smoothed.mean)))\n",
    "print(jnp.max(jnp.abs(par_eks_smoothed.mean - seq_cks_smoothed.mean)))\n",
    "\n",
    "print(jnp.max(jnp.abs(par_eks_smoothed.cov - seq_eks_smoothed.cov)))\n",
    "print(jnp.max(jnp.abs(par_eks_smoothed.cov - seq_cks_smoothed.cov)))"
   ],
   "outputs": [
    {
     "name": "stdout",
     "output_type": "stream",
     "text": [
      "6.023445e-05\n",
      "6.01972e-05\n",
      "2.7239323e-05\n",
      "2.7239323e-05\n"
     ]
    }
   ],
   "execution_count": 10
  },
  {
   "cell_type": "code",
   "metadata": {
    "ExecuteTime": {
     "end_time": "2024-08-09T19:57:46.111310Z",
     "start_time": "2024-08-09T19:57:46.105079Z"
    }
   },
   "source": [],
   "outputs": [],
   "execution_count": 10
  }
 ],
 "metadata": {
  "kernelspec": {
   "name": "python3",
   "language": "python",
   "display_name": "Python 3 (ipykernel)"
  },
  "language_info": {
   "codemirror_mode": {
    "name": "ipython",
    "version": 3
   },
   "file_extension": ".py",
   "mimetype": "text/x-python",
   "name": "python",
   "nbconvert_exporter": "python",
   "pygments_lexer": "ipython3",
   "version": "3.8.5"
  }
 },
 "nbformat": 4,
 "nbformat_minor": 4
}
