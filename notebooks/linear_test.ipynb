{
 "cells": [
  {
   "cell_type": "markdown",
   "metadata": {},
   "source": [
    "### Imports"
   ]
  },
  {
   "cell_type": "code",
   "execution_count": 1,
   "metadata": {},
   "outputs": [],
   "source": [
    "import jax.numpy as jnp\n",
    "from jax import jit\n",
    "from pekf.parallel import ekf, eks\n",
    "from pekf.sequential import ekf as seq_ekf, eks as seq_eks, ckf as seq_ckf, cks as seq_cks\n",
    "from pekf.models.linear import get_data, make_parameters\n",
    "from pekf.utils import MVNormalParameters"
   ]
  },
  {
   "cell_type": "markdown",
   "metadata": {},
   "source": [
    "### Input parameters"
   ]
  },
  {
   "cell_type": "code",
   "execution_count": 2,
   "metadata": {},
   "outputs": [
    {
     "name": "stderr",
     "output_type": "stream",
     "text": [
      "/u/95/corenfa1/unix/PycharmProjects/parallelEKF/venv/lib/python3.7/site-packages/jax/lib/xla_bridge.py:130: UserWarning: No GPU/TPU found, falling back to CPU.\n",
      "  warnings.warn('No GPU/TPU found, falling back to CPU.')\n"
     ]
    }
   ],
   "source": [
    "r = 0.5\n",
    "q = 0.1\n",
    "x0 = jnp.array([0., 0.])  # initial true location\n",
    "\n",
    "T = 1000  # number of observations"
   ]
  },
  {
   "cell_type": "markdown",
   "metadata": {},
   "source": [
    "### Get parameters"
   ]
  },
  {
   "cell_type": "code",
   "execution_count": 3,
   "metadata": {},
   "outputs": [],
   "source": [
    "A, H, Q, R, observation_function, transition_function = make_parameters(r, q)"
   ]
  },
  {
   "cell_type": "code",
   "execution_count": 4,
   "metadata": {},
   "outputs": [],
   "source": [
    "observation_function = jnp.vectorize(observation_function, signature=\"(m)->(d)\")\n",
    "transition_function = jnp.vectorize(transition_function, signature=\"(m)->(m)\")"
   ]
  },
  {
   "cell_type": "markdown",
   "metadata": {},
   "source": [
    "### Get data"
   ]
  },
  {
   "cell_type": "code",
   "execution_count": 5,
   "metadata": {},
   "outputs": [],
   "source": [
    "ts, true_states, observations = get_data(x0, A, H, R, Q, T, 42)"
   ]
  },
  {
   "cell_type": "markdown",
   "metadata": {},
   "source": [
    "### We can now run the filter"
   ]
  },
  {
   "cell_type": "markdown",
   "metadata": {},
   "source": [
    "Initial state guess"
   ]
  },
  {
   "cell_type": "code",
   "execution_count": 6,
   "metadata": {},
   "outputs": [],
   "source": [
    "m = jnp.array([0., 0.])\n",
    "P = jnp.eye(2)\n",
    "\n",
    "initial_guess = MVNormalParameters(m, P)"
   ]
  },
  {
   "cell_type": "markdown",
   "metadata": {},
   "source": [
    "### We can now run the smoother"
   ]
  },
  {
   "cell_type": "markdown",
   "metadata": {},
   "source": [
    "Run the filters"
   ]
  },
  {
   "cell_type": "code",
   "execution_count": 7,
   "metadata": {},
   "outputs": [],
   "source": [
    "par_ekf_filtered = ekf(initial_guess, observations, transition_function, Q, observation_function, R)\n",
    "seq_ekf_filtered = seq_ekf(initial_guess, observations, transition_function, Q, observation_function, R)\n",
    "seq_ckf_filtered = seq_ckf(initial_guess, observations, transition_function, Q, observation_function, R)"
   ]
  },
  {
   "cell_type": "markdown",
   "metadata": {},
   "source": [
    "Compare:"
   ]
  },
  {
   "cell_type": "code",
   "execution_count": 8,
   "metadata": {},
   "outputs": [
    {
     "name": "stdout",
     "output_type": "stream",
     "text": [
      "8.940697e-08\n",
      "8.940697e-08\n",
      "1.4901161e-08\n",
      "1.4901161e-08\n"
     ]
    }
   ],
   "source": [
    "print(jnp.max(jnp.abs(par_ekf_filtered.mean - seq_ekf_filtered.mean)))\n",
    "print(jnp.max(jnp.abs(par_ekf_filtered.mean - seq_ckf_filtered.mean)))\n",
    "\n",
    "print(jnp.max(jnp.abs(par_ekf_filtered.cov - seq_ekf_filtered.cov)))\n",
    "print(jnp.max(jnp.abs(par_ekf_filtered.cov - seq_ckf_filtered.cov)))"
   ]
  },
  {
   "cell_type": "code",
   "execution_count": 9,
   "metadata": {},
   "outputs": [
    {
     "data": {
      "text/plain": [
       "DeviceArray([[[ 0.21933334, -0.06533333],\n",
       "              [-0.06533333,  0.31733334]],\n",
       "\n",
       "             [[ 0.12335366, -0.03207317],\n",
       "              [-0.03207317,  0.17146343]],\n",
       "\n",
       "             [[ 0.10641204, -0.02023148],\n",
       "              [-0.02023148,  0.13675927]],\n",
       "\n",
       "             ...,\n",
       "\n",
       "             [[ 0.10220842, -0.01556246],\n",
       "              [-0.01556246,  0.1255521 ]],\n",
       "\n",
       "             [[ 0.10220842, -0.01556246],\n",
       "              [-0.01556246,  0.1255521 ]],\n",
       "\n",
       "             [[ 0.10220842, -0.01556246],\n",
       "              [-0.01556246,  0.12555212]]], dtype=float32)"
      ]
     },
     "execution_count": 9,
     "metadata": {},
     "output_type": "execute_result"
    }
   ],
   "source": [
    "par_ekf_filtered.cov"
   ]
  },
  {
   "cell_type": "markdown",
   "metadata": {},
   "source": [
    "Run the smoothers"
   ]
  },
  {
   "cell_type": "code",
   "execution_count": 10,
   "metadata": {},
   "outputs": [
    {
     "name": "stdout",
     "output_type": "stream",
     "text": [
      "transforms: [('batch', {'batch_dims': (0,)})]\n",
      "[[ 0.2214607   0.11073035]\n",
      " [ 0.15542476  0.07771238]\n",
      " [ 0.16394147  0.08197074]\n",
      " ...\n",
      " [ 0.08031288  0.04015644]\n",
      " [ 0.02837458  0.01418729]\n",
      " [-0.09243698 -0.04621849]]\n",
      "transforms: [('batch', {'batch_dims': (0,)})]\n",
      "[[[ 0.6957575  -0.11878788]\n",
      "  [-0.11878785  0.8739396 ]]\n",
      "\n",
      " [[ 0.46612108 -0.08608839]\n",
      "  [-0.08608837  0.5952537 ]]\n",
      "\n",
      " [[ 0.4178763  -0.05963326]\n",
      "  [-0.05963327  0.50732625]]\n",
      "\n",
      " ...\n",
      "\n",
      " [[ 0.40557283 -0.0472136 ]\n",
      "  [-0.0472136   0.4763932 ]]\n",
      "\n",
      " [[ 0.40557283 -0.0472136 ]\n",
      "  [-0.0472136   0.4763932 ]]\n",
      "\n",
      " [[ 0.40557283 -0.04721359]\n",
      "  [-0.0472136   0.4763932 ]]]\n",
      "[[0.5 0. ]\n",
      " [0.  0.5]]\n",
      "transforms: [('batch', {'batch_dims': (0,)})]\n",
      "[[[ 0.21933334 -0.06533333]\n",
      "  [-0.06533333  0.31733334]]\n",
      "\n",
      " [[ 0.12335366 -0.03207317]\n",
      "  [-0.03207317  0.17146343]]\n",
      "\n",
      " [[ 0.10641204 -0.02023148]\n",
      "  [-0.02023148  0.13675927]]\n",
      "\n",
      " ...\n",
      "\n",
      " [[ 0.10220842 -0.01556246]\n",
      "  [-0.01556246  0.1255521 ]]\n",
      "\n",
      " [[ 0.10220842 -0.01556246]\n",
      "  [-0.01556246  0.1255521 ]]\n",
      "\n",
      " [[ 0.10220842 -0.01556246]\n",
      "  [-0.01556246  0.12555212]]]\n"
     ]
    }
   ],
   "source": [
    "par_eks_smoothed = eks(transition_function, Q, par_ekf_filtered, par_ekf_filtered.mean)\n",
    "seq_eks_smoothed = seq_eks(transition_function, Q, par_ekf_filtered)\n",
    "seq_cks_smoothed = seq_cks(transition_function, Q, par_ekf_filtered)"
   ]
  },
  {
   "cell_type": "code",
   "execution_count": 11,
   "metadata": {},
   "outputs": [
    {
     "name": "stdout",
     "output_type": "stream",
     "text": [
      "5.9604645e-08\n",
      "5.9604645e-08\n",
      "1.4901161e-08\n",
      "2.9802322e-08\n"
     ]
    }
   ],
   "source": [
    "print(jnp.max(jnp.abs(par_eks_smoothed.mean - seq_eks_smoothed.mean)))\n",
    "print(jnp.max(jnp.abs(par_eks_smoothed.mean - seq_cks_smoothed.mean)))\n",
    "\n",
    "print(jnp.max(jnp.abs(par_eks_smoothed.cov - seq_eks_smoothed.cov)))\n",
    "print(jnp.max(jnp.abs(par_eks_smoothed.cov - seq_cks_smoothed.cov)))"
   ]
  },
  {
   "cell_type": "code",
   "execution_count": 14,
   "metadata": {},
   "outputs": [
    {
     "data": {
      "text/plain": [
       "[<matplotlib.lines.Line2D at 0x7f4d77474750>]"
      ]
     },
     "execution_count": 14,
     "metadata": {},
     "output_type": "execute_result"
    },
    {
     "data": {
      "image/png": "[encoded data removed]",
      "text/plain": [
       "<Figure size 432x288 with 1 Axes>"
      ]
     },
     "metadata": {
      "needs_background": "light"
     },
     "output_type": "display_data"
    }
   ],
   "source": [
    "import matplotlib.pyplot as plt\n",
    "plt.plot(par_eks_smoothed.mean[:, 0], alpha=0.75, color=\"b\")\n",
    "plt.plot(true_states[:, 0], alpha=0.75, color=\"g\")\n",
    "plt.plot(seq_cks_smoothed.mean[:, 0], alpha=0.75, color=\"r\")\n"
   ]
  },
  {
   "cell_type": "code",
   "execution_count": 15,
   "metadata": {},
   "outputs": [
    {
     "data": {
      "text/plain": [
       "DeviceArray([[ 0.2655578 ,  0.13277891],\n",
       "             [ 0.18002579,  0.0900129 ],\n",
       "             [ 0.13586028,  0.06793014],\n",
       "             ...,\n",
       "             [ 0.06025634,  0.03012816],\n",
       "             [-0.01235226, -0.00617614],\n",
       "             [-0.09243698, -0.04621849]], dtype=float32)"
      ]
     },
     "execution_count": 15,
     "metadata": {},
     "output_type": "execute_result"
    }
   ],
   "source": [
    "seq_cks_smoothed.mean"
   ]
  },
  {
   "cell_type": "code",
   "execution_count": null,
   "metadata": {},
   "outputs": [],
   "source": []
  }
 ],
 "metadata": {
  "kernelspec": {
   "display_name": "parallelEKF",
   "language": "python",
   "name": "parallelekf"
  },
  "language_info": {
   "codemirror_mode": {
    "name": "ipython",
    "version": 3
   },
   "file_extension": ".py",
   "mimetype": "text/x-python",
   "name": "python",
   "nbconvert_exporter": "python",
   "pygments_lexer": "ipython3",
   "version": "3.7.6"
  }
 },
 "nbformat": 4,
 "nbformat_minor": 4
}
