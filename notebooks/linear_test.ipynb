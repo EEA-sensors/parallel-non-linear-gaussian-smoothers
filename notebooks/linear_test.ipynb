{
 "cells": [
  {
   "cell_type": "markdown",
   "metadata": {},
   "source": [
    "!pip install git+https://github.com/EEA-sensors/parallel-non-linear-gaussian-smoothers.git@master"
   ]
  },
  {
   "cell_type": "markdown",
   "metadata": {},
   "source": [
    "If running on Colab please run the command above."
   ]
  },
  {
   "cell_type": "markdown",
   "metadata": {},
   "source": [
    "### Imports"
   ]
  },
  {
   "cell_type": "code",
   "execution_count": 1,
   "metadata": {},
   "outputs": [],
   "source": [
    "import jax.numpy as jnp\n",
    "from jax import jit\n",
    "from parsmooth.parallel import ekf, eks\n",
    "from parsmooth.sequential import ekf as seq_ekf, eks as seq_eks, ckf as seq_ckf, cks as seq_cks\n",
    "from parsmooth.models.linear import get_data, make_parameters\n",
    "from parsmooth.utils import MVNormalParameters"
   ]
  },
  {
   "cell_type": "markdown",
   "metadata": {},
   "source": [
    "### Input parameters"
   ]
  },
  {
   "cell_type": "code",
   "execution_count": 2,
   "metadata": {},
   "outputs": [
    {
     "name": "stderr",
     "output_type": "stream",
     "text": [
      "WARNING:absl:No GPU/TPU found, falling back to CPU. (Set TF_CPP_MIN_LOG_LEVEL=0 and rerun for more info.)\n"
     ]
    }
   ],
   "source": [
    "r = 0.5\n",
    "q = 0.1\n",
    "x0 = jnp.array([0., 0.])  # initial true location\n",
    "\n",
    "T = 1000  # number of observations"
   ]
  },
  {
   "cell_type": "markdown",
   "metadata": {},
   "source": [
    "### Get parameters"
   ]
  },
  {
   "cell_type": "code",
   "execution_count": 3,
   "metadata": {},
   "outputs": [],
   "source": [
    "A, H, Q, R, observation_function, transition_function = make_parameters(r, q)"
   ]
  },
  {
   "cell_type": "code",
   "execution_count": 4,
   "metadata": {},
   "outputs": [],
   "source": [
    "observation_function = jnp.vectorize(observation_function, signature=\"(m)->(d)\")\n",
    "transition_function = jnp.vectorize(transition_function, signature=\"(m)->(m)\")"
   ]
  },
  {
   "cell_type": "markdown",
   "metadata": {},
   "source": [
    "### Get data"
   ]
  },
  {
   "cell_type": "code",
   "execution_count": 5,
   "metadata": {},
   "outputs": [],
   "source": [
    "ts, true_states, observations = get_data(x0, A, H, R, Q, T, 42)"
   ]
  },
  {
   "cell_type": "markdown",
   "metadata": {},
   "source": [
    "### We can now run the filter"
   ]
  },
  {
   "cell_type": "markdown",
   "metadata": {},
   "source": [
    "Initial state guess"
   ]
  },
  {
   "cell_type": "code",
   "execution_count": 6,
   "metadata": {},
   "outputs": [],
   "source": [
    "m = jnp.array([0., 0.])\n",
    "P = jnp.eye(2)\n",
    "\n",
    "initial_guess = MVNormalParameters(m, P)"
   ]
  },
  {
   "cell_type": "markdown",
   "metadata": {},
   "source": [
    "### We can now run the smoother"
   ]
  },
  {
   "cell_type": "markdown",
   "metadata": {},
   "source": [
    "Run the filters"
   ]
  },
  {
   "cell_type": "code",
   "execution_count": null,
   "metadata": {},
   "outputs": [],
   "source": [
    "par_ekf_filtered = ekf(initial_guess, observations, transition_function, Q, observation_function, R)\n",
    "seq_ekf_filtered = seq_ekf(initial_guess, observations, transition_function, Q, observation_function, R)\n",
    "seq_ckf_filtered = seq_ckf(initial_guess, observations, transition_function, Q, observation_function, R)"
   ]
  },
  {
   "cell_type": "markdown",
   "metadata": {},
   "source": [
    "Compare:"
   ]
  },
  {
   "cell_type": "code",
   "execution_count": null,
   "metadata": {},
   "outputs": [],
   "source": [
    "print(jnp.max(jnp.abs(par_ekf_filtered.mean - seq_ekf_filtered.mean)))\n",
    "print(jnp.max(jnp.abs(par_ekf_filtered.mean - seq_ckf_filtered.mean)))\n",
    "\n",
    "print(jnp.max(jnp.abs(par_ekf_filtered.cov - seq_ekf_filtered.cov)))\n",
    "print(jnp.max(jnp.abs(par_ekf_filtered.cov - seq_ckf_filtered.cov)))"
   ]
  },
  {
   "cell_type": "markdown",
   "metadata": {},
   "source": [
    "Run the smoothers"
   ]
  },
  {
   "cell_type": "code",
   "execution_count": null,
   "metadata": {},
   "outputs": [],
   "source": [
    "par_eks_smoothed = eks(transition_function, Q, par_ekf_filtered, par_ekf_filtered.mean)\n",
    "seq_eks_smoothed = seq_eks(transition_function, Q, par_ekf_filtered)\n",
    "seq_cks_smoothed = seq_cks(transition_function, Q, par_ekf_filtered)"
   ]
  },
  {
   "cell_type": "code",
   "execution_count": null,
   "metadata": {},
   "outputs": [],
   "source": [
    "print(jnp.max(jnp.abs(par_eks_smoothed.mean - seq_eks_smoothed.mean)))\n",
    "print(jnp.max(jnp.abs(par_eks_smoothed.mean - seq_cks_smoothed.mean)))\n",
    "\n",
    "print(jnp.max(jnp.abs(par_eks_smoothed.cov - seq_eks_smoothed.cov)))\n",
    "print(jnp.max(jnp.abs(par_eks_smoothed.cov - seq_cks_smoothed.cov)))"
   ]
  },
  {
   "cell_type": "code",
   "execution_count": null,
   "metadata": {},
   "outputs": [],
   "source": []
  }
 ],
 "metadata": {
  "kernelspec": {
   "display_name": "parsmooth",
   "language": "python",
   "name": "parsmooth"
  },
  "language_info": {
   "codemirror_mode": {
    "name": "ipython",
    "version": 3
   },
   "file_extension": ".py",
   "mimetype": "text/x-python",
   "name": "python",
   "nbconvert_exporter": "python",
   "pygments_lexer": "ipython3",
   "version": "3.8.5"
  }
 },
 "nbformat": 4,
 "nbformat_minor": 4
}
