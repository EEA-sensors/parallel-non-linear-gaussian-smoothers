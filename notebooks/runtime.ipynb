{
 "cells": [
  {
   "cell_type": "markdown",
   "metadata": {},
   "source": [
    "# Runtime experiments for CPU and GPU benchmarking of our algorithms"
   ]
  },
  {
   "cell_type": "code",
   "execution_count": 1,
   "metadata": {
    "id": "6-Car3VDUC1b"
   },
   "outputs": [
    {
     "name": "stdout",
     "output_type": "stream",
     "text": [
      "Model name:          Intel(R) Xeon(R) W-2133 CPU @ 3.60GHz\n"
     ]
    }
   ],
   "source": [
    "!lscpu |grep 'Model name'"
   ]
  },
  {
   "cell_type": "code",
   "execution_count": 2,
   "metadata": {
    "colab": {
     "base_uri": "https://localhost:8080/",
     "height": 51
    },
    "id": "AQzvVUCESkGP",
    "outputId": "e998c8f0-3abe-48de-bbfe-6f4f09662af2"
   },
   "outputs": [
    {
     "name": "stdout",
     "output_type": "stream",
     "text": [
      "Mon Oct 19 21:43:43 2020       \n",
      "+-----------------------------------------------------------------------------+\n",
      "| NVIDIA-SMI 455.23.05    Driver Version: 455.23.05    CUDA Version: 11.1     |\n",
      "|-------------------------------+----------------------+----------------------+\n",
      "| GPU  Name        Persistence-M| Bus-Id        Disp.A | Volatile Uncorr. ECC |\n",
      "| Fan  Temp  Perf  Pwr:Usage/Cap|         Memory-Usage | GPU-Util  Compute M. |\n",
      "|                               |                      |               MIG M. |\n",
      "|===============================+======================+======================|\n",
      "|   0  Quadro P2000        On   | 00000000:91:00.0  On |                  N/A |\n",
      "| 47%   36C    P5     8W /  75W |   4722MiB /  5050MiB |      3%      Default |\n",
      "|                               |                      |                  N/A |\n",
      "+-------------------------------+----------------------+----------------------+\n",
      "                                                                               \n",
      "+-----------------------------------------------------------------------------+\n",
      "| Processes:                                                                  |\n",
      "|  GPU   GI   CI        PID   Type   Process name                  GPU Memory |\n",
      "|        ID   ID                                                   Usage      |\n",
      "|=============================================================================|\n",
      "|    0   N/A  N/A      1177      G   /usr/lib/xorg/Xorg                 65MiB |\n",
      "|    0   N/A  N/A      1217      G   /usr/bin/gnome-shell               80MiB |\n",
      "|    0   N/A  N/A      1797      G   /usr/lib/xorg/Xorg                385MiB |\n",
      "|    0   N/A  N/A      2014      G   /usr/bin/gnome-shell               34MiB |\n",
      "|    0   N/A  N/A      2333      G   ...oken=12133755331783826913       10MiB |\n",
      "|    0   N/A  N/A      3158      G   .../debug.log --shared-files       43MiB |\n",
      "|    0   N/A  N/A      4660      G   ...AAAAAAAAA= --shared-files      142MiB |\n",
      "|    0   N/A  N/A     30637      C   ...rallelEKF/venv/bin/python     3951MiB |\n",
      "+-----------------------------------------------------------------------------+\n"
     ]
    }
   ],
   "source": [
    "!nvidia-smi"
   ]
  },
  {
   "cell_type": "markdown",
   "metadata": {
    "id": "D66bXe-p0wdC"
   },
   "source": [
    "### Imports"
   ]
  },
  {
   "cell_type": "code",
   "execution_count": 36,
   "metadata": {
    "id": "cfLgDa4d0wdD"
   },
   "outputs": [],
   "source": [
    "from jax import jit, devices, make_jaxpr\n",
    "from jax.config import config\n",
    "import jax.numpy as jnp\n",
    "from matplotlib import rcParams\n",
    "import matplotlib.pyplot as plt\n",
    "import numpy as np\n",
    "import pandas as pd\n",
    "import time\n",
    "import tqdm\n",
    "\n",
    "from parsmooth.parallel import ieks, icks\n",
    "from parsmooth.sequential import ieks as seq_ieks, icks as seq_icks\n",
    "from parsmooth.models.bearings import get_data, make_parameters, plot_bearings\n",
    "from parsmooth.utils import MVNormalParameters"
   ]
  },
  {
   "cell_type": "code",
   "execution_count": 30,
   "metadata": {},
   "outputs": [],
   "source": [
    "# rcParams['font.family'] = 'sans-serif'\n",
    "rcParams['font.sans-serif'] = ['Computer Modern Sans serif']"
   ]
  },
  {
   "cell_type": "markdown",
   "metadata": {
    "id": "7n5s5J1S0wdH"
   },
   "source": [
    "### Input parameters"
   ]
  },
  {
   "cell_type": "code",
   "execution_count": 5,
   "metadata": {
    "colab": {
     "base_uri": "https://localhost:8080/",
     "height": 51
    },
    "id": "I7udHQWm0wdH",
    "outputId": "112b06e5-55f9-4d22-f4db-27d7df41cb1b"
   },
   "outputs": [],
   "source": [
    "s1 = jnp.array([-1.5, 0.5])  # First sensor location\n",
    "s2 = jnp.array([1., 1.])  # Second sensor location\n",
    "r = 5.  # Observation noise (stddev) - Large because IEKS is not very stable\n",
    "dt = 0.01  # discretization time step\n",
    "x0 = jnp.array([0.1, 0.2, 1, 0])  # initial true location\n",
    "qc = 0.1  # noise - Large because IEKS is not very stable\n",
    "qw = 0.1  # noise - Small because IEKS is not very stable\n",
    "\n",
    "T = 100  # number of observations"
   ]
  },
  {
   "cell_type": "markdown",
   "metadata": {
    "id": "rjRijP8D0wdL"
   },
   "source": [
    "### Get parameters"
   ]
  },
  {
   "cell_type": "code",
   "execution_count": 6,
   "metadata": {
    "id": "MnBGuowI0wdL"
   },
   "outputs": [],
   "source": [
    "Q, R, observation_function, transition_function = make_parameters(qc, qw, r, dt, s1, s2)"
   ]
  },
  {
   "cell_type": "code",
   "execution_count": 7,
   "metadata": {},
   "outputs": [],
   "source": [
    "transition_function = jnp.vectorize(transition_function, signature=\"(m)->(m)\")\n",
    "observation_function = jnp.vectorize(observation_function, signature=\"(m)->(d)\")"
   ]
  },
  {
   "cell_type": "markdown",
   "metadata": {
    "id": "EEWK8aah0wdO"
   },
   "source": [
    "### Get data"
   ]
  },
  {
   "cell_type": "code",
   "execution_count": 8,
   "metadata": {
    "id": "tMnoVBYc0wdP"
   },
   "outputs": [],
   "source": [
    "ts, true_states, observations = get_data(x0, dt, r, T, s1, s2, qw, random_state=42)"
   ]
  },
  {
   "cell_type": "markdown",
   "metadata": {
    "id": "wKIP9WPu0wdS"
   },
   "source": [
    "### We can now run the filter"
   ]
  },
  {
   "cell_type": "markdown",
   "metadata": {
    "id": "MNhOFYON0wdS"
   },
   "source": [
    "Initial state guess"
   ]
  },
  {
   "cell_type": "code",
   "execution_count": 9,
   "metadata": {
    "id": "0Z9b5Hpe0wdT"
   },
   "outputs": [],
   "source": [
    "m = jnp.array([-1., -1., 0., 0., 0.])\n",
    "P = jnp.eye(5)\n",
    "\n",
    "initial_guess = MVNormalParameters(m, P)\n",
    "initial_linearization_points = jnp.zeros((T, 5), dtype=m.dtype)\n",
    "initial_linearization_covariances = jnp.repeat(jnp.eye(5).reshape(1, 5, 5), T, axis=0)"
   ]
  },
  {
   "cell_type": "markdown",
   "metadata": {
    "id": "SzlrSEnn0wdi"
   },
   "source": [
    "### Sequential vs Parallel computation time comparison"
   ]
  },
  {
   "cell_type": "code",
   "execution_count": 10,
   "metadata": {},
   "outputs": [],
   "source": [
    "gpu_par_ieks = jit(ieks, static_argnums=(2, 4, 7), backend=\"gpu\")\n",
    "cpu_par_ieks = jit(ieks, static_argnums=(2, 4, 7), backend=\"cpu\")\n",
    "\n",
    "gpu_seq_ieks = jit(seq_ieks, static_argnums=(2, 4, 7), backend=\"gpu\")\n",
    "cpu_seq_ieks = jit(seq_ieks, static_argnums=(2, 4, 7), backend=\"cpu\")\n",
    "\n",
    "gpu_par_icks = jit(icks, static_argnums=(2, 4, 7), backend=\"gpu\")\n",
    "cpu_par_icks = jit(icks, static_argnums=(2, 4, 7), backend=\"cpu\")\n",
    "\n",
    "gpu_seq_icks = jit(seq_icks, static_argnums=(2, 4, 7), backend=\"gpu\")\n",
    "cpu_seq_icks = jit(seq_icks, static_argnums=(2, 4, 7), backend=\"cpu\")"
   ]
  },
  {
   "cell_type": "code",
   "execution_count": 11,
   "metadata": {
    "id": "8ihUWWOniFgy"
   },
   "outputs": [],
   "source": [
    "def profile_smoother(s_method, lengths, n_runs=1, n_iter=10):\n",
    "    res_mean = []\n",
    "    for j in tqdm.tqdm(lengths):\n",
    "        observations_slice = observations[:j]\n",
    "        init_linearizations_points_slice = initial_linearization_points[:j]\n",
    "        init_linearizations_covs_slice = initial_linearization_covariances[:j]\n",
    "        init_linearizations_states = MVNormalParameters(init_linearizations_points_slice, init_linearizations_covs_slice)\n",
    "        args = initial_guess, observations_slice, transition_function, Q, observation_function, R, init_linearizations_states, n_iter\n",
    "        s = s_method(*args)  # this is a call used for compiling the function, this is a bit slow at the moment in JAX and shouldn't be taken into account for benchmarking.\n",
    "                             # they are currently working on AOT compilation, which would then reduce the overhead substantially.   \n",
    "        s.mean.block_until_ready()\n",
    "        run_times = []\n",
    "        for _ in range(n_runs):\n",
    "            tic = time.time()\n",
    "            s_states = s_method(*args)\n",
    "            s_states.mean.block_until_ready()\n",
    "            toc = time.time()\n",
    "            run_times.append(toc - tic)\n",
    "        res_mean.append(np.mean(run_times))\n",
    "    return np.array(res_mean)"
   ]
  },
  {
   "cell_type": "markdown",
   "metadata": {
    "id": "VrId5I8-0wdj"
   },
   "source": [
    "Let's now run the sequential vs the parallel implementation to see the performance gain coming from such parallelisation"
   ]
  },
  {
   "cell_type": "code",
   "execution_count": 12,
   "metadata": {
    "id": "L4aio98JjBvs"
   },
   "outputs": [],
   "source": [
    "lengths_space = np.logspace(1, np.log10(T), num=20).astype(np.int32)"
   ]
  },
  {
   "cell_type": "code",
   "execution_count": 13,
   "metadata": {},
   "outputs": [
    {
     "name": "stderr",
     "output_type": "stream",
     "text": [
      "100%|██████████| 3/3 [01:58<00:00, 39.46s/it]\n",
      "100%|██████████| 3/3 [00:07<00:00,  2.49s/it]\n",
      "100%|██████████| 3/3 [02:21<00:00, 47.26s/it]\n",
      "100%|██████████| 3/3 [00:08<00:00,  2.96s/it]\n"
     ]
    }
   ],
   "source": [
    "gpu_par_ieks_time = profile_smoother(gpu_par_ieks, lengths_space)\n",
    "cpu_par_ieks_time = profile_smoother(cpu_par_ieks, lengths_space)\n",
    "\n",
    "gpu_seq_ieks_time = profile_smoother(gpu_seq_ieks, lengths_space)\n",
    "cpu_seq_ieks_time = profile_smoother(cpu_seq_ieks, lengths_space)\n",
    "\n",
    "gpu_par_icks_time = profile_smoother(gpu_par_icks, lengths_space)\n",
    "cpu_par_icks_time = profile_smoother(cpu_par_icks, lengths_space)\n",
    "\n",
    "gpu_seq_icks_time = profile_smoother(gpu_seq_icks, lengths_space)\n",
    "cpu_seq_icks_time = profile_smoother(cpu_seq_icks, lengths_space)\n"
   ]
  },
  {
   "cell_type": "code",
   "execution_count": 41,
   "metadata": {},
   "outputs": [],
   "source": [
    "data = np.stack([\n",
    "                 gpu_par_ieks_time,\n",
    "                 cpu_par_ieks_time,\n",
    "                 gpu_seq_ieks_time,\n",
    "                 cpu_seq_ieks_time,\n",
    "                 gpu_par_icks_time,\n",
    "                 cpu_par_icks_time,\n",
    "                 gpu_seq_icks_time,\n",
    "                 cpu_seq_icks_time],\n",
    "               axis=1)\n",
    "\n",
    "columns = [\"GPU_par_IEKS\",\n",
    "           \"CPU_par_IEKS\",\n",
    "           \"GPU_seq_IEKS\",\n",
    "           \"CPU_seq_IEKS\",\n",
    "           \"GPU_par_ICKS\",\n",
    "           \"CPU_par_ICKS\",\n",
    "           \"GPU_seq_ICKS\",\n",
    "           \"CPU_seq_ICKS\"]\n",
    "\n",
    "df = pd.DataFrame(index=lengths_space, data=data, colums=columns)\n",
    "df.to_csv(\"...\")"
   ]
  },
  {
   "cell_type": "code",
   "execution_count": null,
   "metadata": {},
   "outputs": [],
   "source": []
  }
 ],
 "metadata": {
  "colab": {
   "name": "ekf_example.ipynb",
   "provenance": [],
   "toc_visible": true
  },
  "kernelspec": {
   "display_name": "parsmooth",
   "language": "python",
   "name": "parsmooth"
  },
  "language_info": {
   "codemirror_mode": {
    "name": "ipython",
    "version": 3
   },
   "file_extension": ".py",
   "mimetype": "text/x-python",
   "name": "python",
   "nbconvert_exporter": "python",
   "pygments_lexer": "ipython3",
   "version": "3.8.5"
  }
 },
 "nbformat": 4,
 "nbformat_minor": 4
}